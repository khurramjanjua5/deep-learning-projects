{
  "nbformat": 4,
  "nbformat_minor": 0,
  "metadata": {
    "colab": {
      "provenance": [],
      "gpuType": "T4",
      "mount_file_id": "1ITuDFMH5oELIO9e90yDbNHvpj8Blu3j6",
      "authorship_tag": "ABX9TyPFiWemOwXrClvGNaDdac0r",
      "include_colab_link": true
    },
    "kernelspec": {
      "name": "python3",
      "display_name": "Python 3"
    },
    "language_info": {
      "name": "python"
    },
    "accelerator": "GPU"
  },
  "cells": [
    {
      "cell_type": "markdown",
      "metadata": {
        "id": "view-in-github",
        "colab_type": "text"
      },
      "source": [
        "<a href=\"https://colab.research.google.com/github/khurramjanjua5/deep-learning-projects/blob/main/Dogs_vs_Cats.ipynb\" target=\"_parent\"><img src=\"https://colab.research.google.com/assets/colab-badge.svg\" alt=\"Open In Colab\"/></a>"
      ]
    },
    {
      "cell_type": "code",
      "source": [
        "mkdir ~/.kaggle"
      ],
      "metadata": {
        "id": "UUbjXK4DMIRs",
        "colab": {
          "base_uri": "https://localhost:8080/"
        },
        "outputId": "2dd07eae-8411-449f-9dfe-38b8002b252e"
      },
      "execution_count": null,
      "outputs": [
        {
          "output_type": "stream",
          "name": "stdout",
          "text": [
            "mkdir: cannot create directory ‘/root/.kaggle’: File exists\n"
          ]
        }
      ]
    },
    {
      "cell_type": "code",
      "source": [
        "!cp kaggle.json ~/.kaggle"
      ],
      "metadata": {
        "id": "ISyg0_UiNdxO"
      },
      "execution_count": null,
      "outputs": []
    },
    {
      "cell_type": "code",
      "source": [
        "!chmod 600 ~/.kaggle/kaggle.json"
      ],
      "metadata": {
        "id": "vl2Izo_Q-B-Q"
      },
      "execution_count": null,
      "outputs": []
    },
    {
      "cell_type": "code",
      "source": [
        "!kaggle datasets download -d salader/dogs-vs-cats"
      ],
      "metadata": {
        "id": "iwqV_dIUMnXO",
        "colab": {
          "base_uri": "https://localhost:8080/"
        },
        "outputId": "f075c110-3ae2-46dd-a59d-cdb5781b2ad6"
      },
      "execution_count": null,
      "outputs": [
        {
          "output_type": "stream",
          "name": "stdout",
          "text": [
            "Downloading dogs-vs-cats.zip to /content\n",
            "100% 1.06G/1.06G [00:48<00:00, 24.8MB/s]\n",
            "100% 1.06G/1.06G [00:48<00:00, 23.6MB/s]\n"
          ]
        }
      ]
    },
    {
      "cell_type": "code",
      "source": [
        "import zipfile\n",
        "\n",
        "# Path to the zip file\n",
        "zip_file_path = '/content/dogs-vs-cats.zip'\n",
        "\n",
        "# Directory to extract the contents\n",
        "extract_to_path = '/content/dogs-vs-cats'\n",
        "\n",
        "# Extract the zip file\n",
        "with zipfile.ZipFile(zip_file_path, 'r') as zip_ref:\n",
        "    zip_ref.extractall(extract_to_path)\n",
        "\n",
        "print(\"Dataset extracted successfully.\")\n"
      ],
      "metadata": {
        "id": "rT7GkiJH_NOz",
        "colab": {
          "base_uri": "https://localhost:8080/"
        },
        "outputId": "f4fe1835-db2d-41e9-a98f-6a3bdaabe43e"
      },
      "execution_count": null,
      "outputs": [
        {
          "output_type": "stream",
          "name": "stdout",
          "text": [
            "Dataset extracted successfully.\n"
          ]
        }
      ]
    },
    {
      "cell_type": "code",
      "source": [
        "import tensorflow as tf\n",
        "from tensorflow import keras\n",
        "from keras import Sequential\n",
        "from keras.layers import Dense,Conv2D,MaxPooling2D,Flatten,BatchNormalization,Dropout"
      ],
      "metadata": {
        "id": "LWX7SBj5PJSq"
      },
      "execution_count": null,
      "outputs": []
    },
    {
      "cell_type": "code",
      "source": [
        "#generators to divide the data into batches with their labels so that data can be processed one by one. Generators are commonly used when working with large datasets that cannot fit entirely into memory.\n",
        "train_ds=keras.utils.image_dataset_from_directory(\n",
        "    directory='/content/dogs-vs-cats/train',\n",
        "    labels='inferred',\n",
        "    label_mode='int',\n",
        "    batch_size=32,\n",
        "    image_size=(256,256)\n",
        ")\n",
        "\n",
        "validation_ds=keras.utils.image_dataset_from_directory(\n",
        "    directory='/content/dogs-vs-cats/test',\n",
        "    labels='inferred',\n",
        "    label_mode='int',\n",
        "    batch_size=32,\n",
        "    image_size=(256,256)\n",
        ")"
      ],
      "metadata": {
        "colab": {
          "base_uri": "https://localhost:8080/"
        },
        "id": "t24YG1paRHsI",
        "outputId": "c4252ee3-2521-442c-fa7f-e40b8f7b9346"
      },
      "execution_count": null,
      "outputs": [
        {
          "output_type": "stream",
          "name": "stdout",
          "text": [
            "Found 20000 files belonging to 2 classes.\n",
            "Found 5000 files belonging to 2 classes.\n"
          ]
        }
      ]
    },
    {
      "cell_type": "code",
      "source": [
        "#Normalize\n",
        "def process(image,label):\n",
        "  image=tf.cast(image/255,tf.float32)\n",
        "  return image,label\n",
        "\n",
        "  train_ds=train_ds.map(process)\n",
        "  validation_ds=validation_ds(process)"
      ],
      "metadata": {
        "id": "3D_JWX3ESUhi"
      },
      "execution_count": null,
      "outputs": []
    },
    {
      "cell_type": "code",
      "source": [
        "#cnn model\n",
        "model=Sequential()\n",
        "model.add(Conv2D(32,kernel_size=(3,3),padding='valid',activation='relu',input_shape=(256,256,3)))\n",
        "model.add(BatchNormalization())\n",
        "model.add(MaxPooling2D(pool_size=(2,2),strides=2,padding='valid'))\n",
        "\n",
        "model.add(Conv2D(64,kernel_size=(3,3),padding='valid',activation='relu'))\n",
        "model.add(BatchNormalization())\n",
        "model.add(MaxPooling2D(pool_size=(2,2),strides=2,padding='valid'))\n",
        "\n",
        "model.add(Conv2D(128,kernel_size=(3,3),padding='valid',activation='relu'))\n",
        "model.add(BatchNormalization())\n",
        "model.add(MaxPooling2D(pool_size=(2,2),strides=2,padding='valid'))\n",
        "\n",
        "model.add(Flatten())\n",
        "\n",
        "model.add(Dense(128,activation='relu'))\n",
        "model.add(Dropout(0.1))\n",
        "model.add(Dense(64,activation='relu'))\n",
        "model.add(Dropout(0.1))\n",
        "model.add(Dense(1,activation='sigmoid'))"
      ],
      "metadata": {
        "id": "uUtmoZTqUu0E"
      },
      "execution_count": null,
      "outputs": []
    },
    {
      "cell_type": "code",
      "source": [
        "model.summary()"
      ],
      "metadata": {
        "colab": {
          "base_uri": "https://localhost:8080/"
        },
        "id": "_FfeVyEoXGgE",
        "outputId": "84bdb2e0-b361-4508-a6a2-fa95a813903e"
      },
      "execution_count": null,
      "outputs": [
        {
          "output_type": "stream",
          "name": "stdout",
          "text": [
            "Model: \"sequential_2\"\n",
            "_________________________________________________________________\n",
            " Layer (type)                Output Shape              Param #   \n",
            "=================================================================\n",
            " conv2d_4 (Conv2D)           (None, 254, 254, 32)      896       \n",
            "                                                                 \n",
            " batch_normalization (Batch  (None, 254, 254, 32)      128       \n",
            " Normalization)                                                  \n",
            "                                                                 \n",
            " max_pooling2d_3 (MaxPoolin  (None, 127, 127, 32)      0         \n",
            " g2D)                                                            \n",
            "                                                                 \n",
            " conv2d_5 (Conv2D)           (None, 125, 125, 64)      18496     \n",
            "                                                                 \n",
            " batch_normalization_1 (Bat  (None, 125, 125, 64)      256       \n",
            " chNormalization)                                                \n",
            "                                                                 \n",
            " max_pooling2d_4 (MaxPoolin  (None, 62, 62, 64)        0         \n",
            " g2D)                                                            \n",
            "                                                                 \n",
            " conv2d_6 (Conv2D)           (None, 60, 60, 128)       73856     \n",
            "                                                                 \n",
            " batch_normalization_2 (Bat  (None, 60, 60, 128)       512       \n",
            " chNormalization)                                                \n",
            "                                                                 \n",
            " max_pooling2d_5 (MaxPoolin  (None, 30, 30, 128)       0         \n",
            " g2D)                                                            \n",
            "                                                                 \n",
            " flatten_1 (Flatten)         (None, 115200)            0         \n",
            "                                                                 \n",
            " dense_3 (Dense)             (None, 128)               14745728  \n",
            "                                                                 \n",
            " dropout (Dropout)           (None, 128)               0         \n",
            "                                                                 \n",
            " dense_4 (Dense)             (None, 64)                8256      \n",
            "                                                                 \n",
            " dropout_1 (Dropout)         (None, 64)                0         \n",
            "                                                                 \n",
            " dense_5 (Dense)             (None, 1)                 65        \n",
            "                                                                 \n",
            "=================================================================\n",
            "Total params: 14848193 (56.64 MB)\n",
            "Trainable params: 14847745 (56.64 MB)\n",
            "Non-trainable params: 448 (1.75 KB)\n",
            "_________________________________________________________________\n"
          ]
        }
      ]
    },
    {
      "cell_type": "code",
      "source": [
        "model.compile(optimizer='adam',loss='binary_crossentropy',metrics=['accuracy'])"
      ],
      "metadata": {
        "id": "IyxRDIrvXSzU"
      },
      "execution_count": null,
      "outputs": []
    },
    {
      "cell_type": "code",
      "source": [
        "history=model.fit(train_ds,epochs=10,validation_data=validation_ds)"
      ],
      "metadata": {
        "colab": {
          "base_uri": "https://localhost:8080/"
        },
        "id": "VXo7Fs96X9ES",
        "outputId": "254d84f9-146d-4130-949d-17471bf4f27c"
      },
      "execution_count": null,
      "outputs": [
        {
          "output_type": "stream",
          "name": "stdout",
          "text": [
            "Epoch 1/10\n",
            "625/625 [==============================] - 68s 102ms/step - loss: 1.3369 - accuracy: 0.5738 - val_loss: 0.6364 - val_accuracy: 0.6152\n",
            "Epoch 2/10\n",
            "625/625 [==============================] - 66s 105ms/step - loss: 0.5920 - accuracy: 0.6858 - val_loss: 1.1177 - val_accuracy: 0.5902\n",
            "Epoch 3/10\n",
            "625/625 [==============================] - 64s 102ms/step - loss: 0.5124 - accuracy: 0.7343 - val_loss: 0.5171 - val_accuracy: 0.7486\n",
            "Epoch 4/10\n",
            "625/625 [==============================] - 65s 104ms/step - loss: 0.4633 - accuracy: 0.7628 - val_loss: 0.5355 - val_accuracy: 0.7494\n",
            "Epoch 5/10\n",
            "625/625 [==============================] - 67s 107ms/step - loss: 0.4114 - accuracy: 0.7915 - val_loss: 0.4914 - val_accuracy: 0.7666\n",
            "Epoch 6/10\n",
            "625/625 [==============================] - 66s 105ms/step - loss: 0.3546 - accuracy: 0.8196 - val_loss: 0.5867 - val_accuracy: 0.7294\n",
            "Epoch 7/10\n",
            "625/625 [==============================] - 64s 102ms/step - loss: 0.3064 - accuracy: 0.8501 - val_loss: 0.5637 - val_accuracy: 0.7506\n",
            "Epoch 8/10\n",
            "625/625 [==============================] - 68s 108ms/step - loss: 0.2633 - accuracy: 0.8698 - val_loss: 0.4335 - val_accuracy: 0.8174\n",
            "Epoch 9/10\n",
            "625/625 [==============================] - 64s 102ms/step - loss: 0.2265 - accuracy: 0.8899 - val_loss: 0.4655 - val_accuracy: 0.8254\n",
            "Epoch 10/10\n",
            "625/625 [==============================] - 67s 106ms/step - loss: 0.1966 - accuracy: 0.9048 - val_loss: 0.5644 - val_accuracy: 0.7824\n"
          ]
        }
      ]
    },
    {
      "cell_type": "code",
      "source": [],
      "metadata": {
        "id": "QuZ0x_ToYPW4"
      },
      "execution_count": null,
      "outputs": []
    }
  ]
}